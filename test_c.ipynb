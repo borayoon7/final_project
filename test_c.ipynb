{
  "nbformat": 4,
  "nbformat_minor": 0,
  "metadata": {
    "colab": {
      "provenance": [],
      "gpuType": "T4"
    },
    "kernelspec": {
      "name": "python3",
      "display_name": "Python 3"
    },
    "language_info": {
      "name": "python"
    },
    "accelerator": "GPU"
  },
  "cells": [
    {
      "cell_type": "code",
      "source": [
        "from google.colab import drive\n",
        "drive.mount('/content/drive')"
      ],
      "metadata": {
        "colab": {
          "base_uri": "https://localhost:8080/"
        },
        "id": "CGmYnLMyTcId",
        "outputId": "356c1f85-ceca-4546-f84f-4386f4f0b36c"
      },
      "execution_count": 1,
      "outputs": [
        {
          "output_type": "stream",
          "name": "stdout",
          "text": [
            "Mounted at /content/drive\n"
          ]
        }
      ]
    },
    {
      "cell_type": "code",
      "source": [
        "import sys\n",
        "import os\n",
        "\n",
        "# 모듈이 있는 디렉토리의 절대 경로 가져오기\n",
        "module_dir = '/content/drive/MyDrive/pythondeep'\n",
        "\n",
        "# Python 경로에 디렉토리 추가\n",
        "sys.path.append(module_dir)"
      ],
      "metadata": {
        "id": "6FSrPefSTb7t"
      },
      "execution_count": 2,
      "outputs": []
    },
    {
      "cell_type": "markdown",
      "source": [
        "아래 코드는 데이터 shape 확인용"
      ],
      "metadata": {
        "id": "8aA3Yth-hfq7"
      }
    },
    {
      "cell_type": "code",
      "source": [
        "import torch\n",
        "import numpy as np\n",
        "from scipy.io import loadmat\n",
        "from torch.utils.data import Dataset, DataLoader\n",
        "import matplotlib.pyplot as plt\n",
        "from model_ import boReEsNet, ReEsNet\n",
        "\n",
        "rs_file_path = '/content/drive/My Drive/pythondeep/data/RS.mat'  # RS 파일 경로(정답)\n",
        "rs_data = loadmat(rs_file_path)\n",
        "RS_real = torch.tensor(rs_data['RS'].real, dtype=torch.float32) # 실수부\n",
        "# RS_imag = torch.tensor(1j * rs_data['RS'].imag, dtype=torch.complex64)\n",
        "RS_imag = torch.tensor(rs_data['RS'].imag, dtype=torch.float32) # 허수부\n",
        "RS_reference = torch.stack([RS_real, RS_imag], dim=-1)  #  72x14 여야함\n",
        "RS_reference = RS_reference[1:73, :, :]\n",
        "print(RS_reference.shape)\n",
        "RS_reference = RS_reference.permute(2,0,1)\n",
        "print(RS_reference.shape)"
      ],
      "metadata": {
        "colab": {
          "base_uri": "https://localhost:8080/"
        },
        "id": "s_ZZfvMOLtH_",
        "outputId": "6419177c-f2de-40a9-9f35-57dfe12a452b"
      },
      "execution_count": 3,
      "outputs": [
        {
          "output_type": "stream",
          "name": "stdout",
          "text": [
            "torch.Size([72, 14, 2])\n",
            "torch.Size([2, 72, 14])\n"
          ]
        }
      ]
    },
    {
      "cell_type": "code",
      "source": [
        "import numpy as np\n",
        "from scipy.io import loadmat\n",
        "import torch\n",
        "\n",
        "test_data_path = '/content/drive/My Drive/pythondeep/data/test_data_snr.mat'\n",
        "mat_data = np.array(loadmat(test_data_path)['test_data_snr']).T\n",
        "print(mat_data.shape)\n",
        "data_snr = mat_data[:, 0]\n",
        "print(data_snr.shape)\n",
        "for i in range(len(data_snr)):\n",
        "  data_snr[i] = torch.tensor(data_snr[i]).permute(2,0,1)\n",
        "  # print(data_snr[i].shape)\n",
        "print(data_snr[0].shape)"
      ],
      "metadata": {
        "colab": {
          "base_uri": "https://localhost:8080/"
        },
        "id": "pKs9SNjda4KT",
        "outputId": "cac6290d-e2d1-4430-db79-bd238f2fd4e1"
      },
      "execution_count": 4,
      "outputs": [
        {
          "output_type": "stream",
          "name": "stdout",
          "text": [
            "(5000, 4)\n",
            "(5000,)\n",
            "torch.Size([2, 24, 2])\n"
          ]
        }
      ]
    },
    {
      "cell_type": "code",
      "execution_count": 5,
      "metadata": {
        "colab": {
          "base_uri": "https://localhost:8080/"
        },
        "id": "_bWsvUyI_oyq",
        "outputId": "969318d7-8b56-40fd-a097-236420f73630"
      },
      "outputs": [
        {
          "output_type": "stream",
          "name": "stderr",
          "text": [
            "<ipython-input-5-07b4c023ddab>:43: FutureWarning: You are using `torch.load` with `weights_only=False` (the current default value), which uses the default pickle module implicitly. It is possible to construct malicious pickle data which will execute arbitrary code during unpickling (See https://github.com/pytorch/pytorch/blob/main/SECURITY.md#untrusted-models for more details). In a future release, the default value for `weights_only` will be flipped to `True`. This limits the functions that could be executed during unpickling. Arbitrary objects will no longer be allowed to be loaded via this mode unless they are explicitly allowlisted by the user via `torch.serialization.add_safe_globals`. We recommend you start setting `weights_only=True` for any use case where you don't have full control of the loaded file. Please open an issue on GitHub for any issues related to this experimental feature.\n",
            "  model1.load_state_dict(torch.load(model1_path))  # 학습된 모델의 가중치 로드\n",
            "<ipython-input-5-07b4c023ddab>:48: FutureWarning: You are using `torch.load` with `weights_only=False` (the current default value), which uses the default pickle module implicitly. It is possible to construct malicious pickle data which will execute arbitrary code during unpickling (See https://github.com/pytorch/pytorch/blob/main/SECURITY.md#untrusted-models for more details). In a future release, the default value for `weights_only` will be flipped to `True`. This limits the functions that could be executed during unpickling. Arbitrary objects will no longer be allowed to be loaded via this mode unless they are explicitly allowlisted by the user via `torch.serialization.add_safe_globals`. We recommend you start setting `weights_only=True` for any use case where you don't have full control of the loaded file. Please open an issue on GitHub for any issues related to this experimental feature.\n",
            "  model2.load_state_dict(torch.load(model2_path))  # 학습된 모델의 가중치 로드\n"
          ]
        },
        {
          "output_type": "stream",
          "name": "stdout",
          "text": [
            "boReEsNet\n",
            "SNR: 0, MSE: 0.8670875325798988\n",
            "SNR: 1, MSE: 0.6877617470920085\n",
            "SNR: 2, MSE: 0.6810987517237663\n",
            "SNR: 3, MSE: 0.6943194016814231\n",
            "ReEsNet\n",
            "SNR: 0, MSE: 0.8663461059331894\n",
            "SNR: 1, MSE: 0.7344216275960207\n",
            "SNR: 2, MSE: 0.7220889836549759\n",
            "SNR: 3, MSE: 0.7337856635451316\n"
          ]
        }
      ],
      "source": [
        "# 테스트 데이터셋 클래스 정의\n",
        "class TestDataset(Dataset):\n",
        "    def __init__(self, data_path, snr):\n",
        "        mat_data = np.array(loadmat(test_data_path)['test_data_snr']).T # 5000x4\n",
        "        data_snr = mat_data[:, snr]\n",
        "        self.data = [torch.tensor(item).permute(2, 0, 1) for item in data_snr]\n",
        "\n",
        "    def __len__(self):\n",
        "        return len(self.data)\n",
        "\n",
        "    def __getitem__(self, idx):\n",
        "        feature_signal = self.data[idx]\n",
        "        feature_signal = feature_signal.float()\n",
        "        return feature_signal\n",
        "\n",
        "\n",
        "# 테스트 데이터셋 및 DataLoader 설정\n",
        "test_data_path = '/content/drive/My Drive/pythondeep/data/test_data_snr.mat'  # test_data_snr 파일 경로\n",
        "\n",
        "\n",
        "snr_values = [0,1,2,3]\n",
        "testdatasets = []\n",
        "\n",
        "for snr in snr_values:\n",
        "    test_dataset = TestDataset(test_data_path, snr=snr)\n",
        "    testdatasets.append(test_dataset)\n",
        "\n",
        "batch_size = 128\n",
        "test_loaders = []\n",
        "\n",
        "# 각 test_dataset에 대해 DataLoader를 생성하여 test_loaders에 추가\n",
        "for test_dataset in testdatasets:\n",
        "    test_loader = DataLoader(test_dataset, batch_size=batch_size, shuffle=False, drop_last=False)\n",
        "    test_loaders.append(test_loader)\n",
        "\n",
        "device = torch.device(\"cuda\" if torch.cuda.is_available() else \"cpu\")\n",
        "from model_ import boReEsNet, ReEsNet  # 모델 정의가 별도 파일\n",
        "\n",
        "model1 = boReEsNet(input_channels=2, num_filters=8, num_classes=2)  # 모델의 구조 정의, 초기화\n",
        "model2 = ReEsNet(input_channels=2, num_filters=8, num_classes=2)\n",
        "\n",
        "model1_path = '/content/drive/MyDrive/pythondeep/data/boReEsNet12.pth'\n",
        "model1.load_state_dict(torch.load(model1_path))  # 학습된 모델의 가중치 로드\n",
        "model1.to(device)\n",
        "model1.eval()\n",
        "\n",
        "model2_path = '/content/drive/MyDrive/pythondeep/data/ReEsNet12.pth'\n",
        "model2.load_state_dict(torch.load(model2_path))  # 학습된 모델의 가중치 로드\n",
        "model2.to(device)\n",
        "model2.eval()\n",
        "\n",
        "def test_model(model, test_loaders, snr_values):\n",
        "    mse_results = {}\n",
        "    with torch.no_grad():\n",
        "        for snr_index, test_loader in enumerate(test_loaders):\n",
        "            mse_results[snr_index] = 0\n",
        "            for batch in test_loader:\n",
        "                data_s = batch.to(device)\n",
        "                outputs = model(data_s)\n",
        "                RS = RS_reference.to(device)\n",
        "                mse_value = ((outputs - RS) ** 2).mean()  # MSE 계산\n",
        "                mse_results[snr_index] += mse_value.item()\n",
        "            mse_results[snr_index] /= len(test_loader)  # 평균 MSE 계산\n",
        "            print(f'SNR: {snr_values[snr_index]}, MSE: {mse_results[snr_index]}')\n",
        "    return mse_results\n",
        "\n",
        "results = {}\n",
        "# 모델 1 테스트_boReEsNet\n",
        "print(\"boReEsNet\")\n",
        "results[\"model1\"] = test_model(model1, test_loaders, snr_values)\n",
        "\n",
        "# 모델 2 테스트_ReEsNet\n",
        "print(\"ReEsNet\")\n",
        "results[\"model2\"] = test_model(model2, test_loaders, snr_values)\n",
        "\n",
        "\n",
        "\n"
      ]
    },
    {
      "cell_type": "markdown",
      "source": [],
      "metadata": {
        "id": "OUQiF4SloGWs"
      }
    },
    {
      "cell_type": "code",
      "source": [
        "import torch\n",
        "import torch.nn as nn\n",
        "\n",
        "class TestDataset(Dataset):\n",
        "    def __init__(self, data_path, snr):\n",
        "        mat_data = np.array(loadmat(test_data_path)['test_data_snr']).T # 5000x4\n",
        "        data_snr = mat_data[:, snr]\n",
        "        self.data = [torch.tensor(item).permute(2, 0, 1) for item in data_snr]\n",
        "\n",
        "    def __len__(self):\n",
        "        return len(self.data)\n",
        "\n",
        "    def __getitem__(self, idx):\n",
        "        feature_signal = self.data[idx]\n",
        "        feature_signal = feature_signal.float()\n",
        "        return feature_signal\n",
        "\n",
        "\n",
        "# 테스트 데이터셋 및 DataLoader 설정\n",
        "test_data_path = '/content/drive/My Drive/pythondeep/data/test_data_snr.mat'  # test_data_snr 파일 경로\n",
        "snr_values = [0,1,2,3]\n",
        "testdatasets = []\n",
        "\n",
        "for snr in snr_values:\n",
        "    test_dataset = TestDataset(test_data_path, snr=snr)\n",
        "    testdatasets.append(test_dataset)\n",
        "\n",
        "batch_size = 128\n",
        "test_loaders = []\n",
        "\n",
        "# 각 test_dataset에 대해 DataLoader를 생성하여 test_loaders에 추가\n",
        "for test_dataset in testdatasets:\n",
        "    test_loader = DataLoader(test_dataset, batch_size=batch_size, shuffle=False, drop_last=False)\n",
        "    test_loaders.append(test_loader)\n",
        "\n",
        "# test_loader = DataLoader(test_dataset, batch_size=batch_size, shuffle=False)\n",
        "\n",
        "# 3. 모델 초기화 및 로드\n",
        "device = torch.device(\"cuda\" if torch.cuda.is_available() else \"cpu\")\n",
        "from model_ import boReEsNet, ReEsNet  # 모델 정의가 별도 파일에 있다고 가정\n",
        "\n",
        "model1 = boReEsNet(input_channels=2, num_filters=8, num_classes=2)  # 모델의 구조 정의, 초기화\n",
        "model2 = ReEsNet(input_channels=2, num_filters=8, num_classes=2)\n",
        "\n",
        "model1_path = '/content/drive/MyDrive/pythondeep/data/boReEsNet12.pth'\n",
        "model1.load_state_dict(torch.load(model1_path))  # 학습된 모델의 가중치 로드\n",
        "model1.to(device)\n",
        "model1.eval()\n",
        "\n",
        "model2_path = '/content/drive/MyDrive/pythondeep/data/ReEsNet12.pth'\n",
        "model2.load_state_dict(torch.load(model2_path))  # 학습된 모델의 가중치 로드\n",
        "model2.to(device)\n",
        "model2.eval()\n",
        "\n",
        "def test_model_with_loss(model, test_loaders, snr_values, criterion):\n",
        "    loss_results = {}\n",
        "    with torch.no_grad():\n",
        "        for snr_index, test_loader in enumerate(test_loaders):\n",
        "            loss_results[snr_index] = 0\n",
        "            for batch in test_loader:\n",
        "                data_s = batch.to(device)  # 입력 데이터\n",
        "                outputs = model(data_s)  # 모델 출력\n",
        "                RS = RS_reference.to(device)  # 정답 데이터\n",
        "                loss_value = criterion(outputs, RS)  # 손실 함수 계산\n",
        "                loss_results[snr_index] += loss_value.item()\n",
        "            loss_results[snr_index] /= len(test_loader)  # 평균 Loss 계산\n",
        "            print(f'SNR: {snr_values[snr_index]}, Loss: {loss_results[snr_index]}')\n",
        "    return loss_results\n",
        "\n",
        "# 모델 학습 시 사용된 손실 함수\n",
        "criterion = nn.MSELoss()\n",
        "\n",
        "# boReEsNet\n",
        "print(\"boReEsNet\")\n",
        "results[\"model1_loss\"] = test_model_with_loss(model1, test_loaders, snr_values, criterion)\n",
        "\n",
        "# ReEsNet\n",
        "print(\"ReEsNet\")\n",
        "results[\"model2_loss\"] = test_model_with_loss(model2, test_loaders, snr_values, criterion)\n",
        "\n"
      ],
      "metadata": {
        "id": "2CAIIWzLuOlm",
        "colab": {
          "base_uri": "https://localhost:8080/"
        },
        "outputId": "61286a70-c4c9-4fc8-ab37-1b9fff6b5d00"
      },
      "execution_count": 6,
      "outputs": [
        {
          "output_type": "stream",
          "name": "stderr",
          "text": [
            "<ipython-input-6-73973eb89f68>:46: FutureWarning: You are using `torch.load` with `weights_only=False` (the current default value), which uses the default pickle module implicitly. It is possible to construct malicious pickle data which will execute arbitrary code during unpickling (See https://github.com/pytorch/pytorch/blob/main/SECURITY.md#untrusted-models for more details). In a future release, the default value for `weights_only` will be flipped to `True`. This limits the functions that could be executed during unpickling. Arbitrary objects will no longer be allowed to be loaded via this mode unless they are explicitly allowlisted by the user via `torch.serialization.add_safe_globals`. We recommend you start setting `weights_only=True` for any use case where you don't have full control of the loaded file. Please open an issue on GitHub for any issues related to this experimental feature.\n",
            "  model1.load_state_dict(torch.load(model1_path))  # 학습된 모델의 가중치 로드\n",
            "<ipython-input-6-73973eb89f68>:51: FutureWarning: You are using `torch.load` with `weights_only=False` (the current default value), which uses the default pickle module implicitly. It is possible to construct malicious pickle data which will execute arbitrary code during unpickling (See https://github.com/pytorch/pytorch/blob/main/SECURITY.md#untrusted-models for more details). In a future release, the default value for `weights_only` will be flipped to `True`. This limits the functions that could be executed during unpickling. Arbitrary objects will no longer be allowed to be loaded via this mode unless they are explicitly allowlisted by the user via `torch.serialization.add_safe_globals`. We recommend you start setting `weights_only=True` for any use case where you don't have full control of the loaded file. Please open an issue on GitHub for any issues related to this experimental feature.\n",
            "  model2.load_state_dict(torch.load(model2_path))  # 학습된 모델의 가중치 로드\n",
            "/usr/local/lib/python3.10/dist-packages/torch/nn/modules/loss.py:608: UserWarning: Using a target size (torch.Size([2, 72, 14])) that is different to the input size (torch.Size([128, 2, 72, 14])). This will likely lead to incorrect results due to broadcasting. Please ensure they have the same size.\n",
            "  return F.mse_loss(input, target, reduction=self.reduction)\n"
          ]
        },
        {
          "output_type": "stream",
          "name": "stdout",
          "text": [
            "boReEsNet\n"
          ]
        },
        {
          "output_type": "stream",
          "name": "stderr",
          "text": [
            "/usr/local/lib/python3.10/dist-packages/torch/nn/modules/loss.py:608: UserWarning: Using a target size (torch.Size([2, 72, 14])) that is different to the input size (torch.Size([8, 2, 72, 14])). This will likely lead to incorrect results due to broadcasting. Please ensure they have the same size.\n",
            "  return F.mse_loss(input, target, reduction=self.reduction)\n"
          ]
        },
        {
          "output_type": "stream",
          "name": "stdout",
          "text": [
            "SNR: 0, Loss: 0.8670875310897828\n",
            "SNR: 1, Loss: 0.6877617500722408\n",
            "SNR: 2, Loss: 0.6810987517237663\n",
            "SNR: 3, Loss: 0.6943194016814231\n",
            "ReEsNet\n",
            "SNR: 0, Loss: 0.8663461089134217\n",
            "SNR: 1, Loss: 0.7344216261059046\n",
            "SNR: 2, Loss: 0.7220889836549759\n",
            "SNR: 3, Loss: 0.7337856650352478\n"
          ]
        }
      ]
    },
    {
      "cell_type": "code",
      "source": [],
      "metadata": {
        "id": "_JSkkMKTHv04"
      },
      "execution_count": null,
      "outputs": []
    }
  ]
}